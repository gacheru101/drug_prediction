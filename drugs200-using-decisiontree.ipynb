{
 "cells": [
  {
   "cell_type": "code",
   "execution_count": 1,
   "id": "88f50851",
   "metadata": {
    "_cell_guid": "b1076dfc-b9ad-4769-8c92-a6c4dae69d19",
    "_uuid": "8f2839f25d086af736a60e9eeb907d3b93b6e0e5",
    "execution": {
     "iopub.execute_input": "2024-02-21T08:17:30.028805Z",
     "iopub.status.busy": "2024-02-21T08:17:30.028416Z",
     "iopub.status.idle": "2024-02-21T08:17:31.068138Z",
     "shell.execute_reply": "2024-02-21T08:17:31.066788Z"
    },
    "papermill": {
     "duration": 1.053177,
     "end_time": "2024-02-21T08:17:31.071488",
     "exception": false,
     "start_time": "2024-02-21T08:17:30.018311",
     "status": "completed"
    },
    "tags": []
   },
   "outputs": [
    {
     "name": "stdout",
     "output_type": "stream",
     "text": [
      "/kaggle/input/drugs-a-b-c-x-y-for-decision-trees/drug200.csv\n"
     ]
    }
   ],
   "source": [
    "# This Python 3 environment comes with many helpful analytics libraries installed\n",
    "# It is defined by the kaggle/python Docker image: https://github.com/kaggle/docker-python\n",
    "# For example, here's several helpful packages to load\n",
    "\n",
    "import numpy as np # linear algebra\n",
    "import pandas as pd # data processing, CSV file I/O (e.g. pd.read_csv)\n",
    "\n",
    "# Input data files are available in the read-only \"../input/\" directory\n",
    "# For example, running this (by clicking run or pressing Shift+Enter) will list all files under the input directory\n",
    "\n",
    "import os\n",
    "for dirname, _, filenames in os.walk('/kaggle/input'):\n",
    "    for filename in filenames:\n",
    "        print(os.path.join(dirname, filename))\n",
    "\n",
    "# You can write up to 20GB to the current directory (/kaggle/working/) that gets preserved as output when you create a version using \"Save & Run All\" \n",
    "# You can also write temporary files to /kaggle/temp/, but they won't be saved outside of the current session"
   ]
  },
  {
   "cell_type": "code",
   "execution_count": 2,
   "id": "3e52785a",
   "metadata": {
    "execution": {
     "iopub.execute_input": "2024-02-21T08:17:31.089990Z",
     "iopub.status.busy": "2024-02-21T08:17:31.089410Z",
     "iopub.status.idle": "2024-02-21T08:17:31.095654Z",
     "shell.execute_reply": "2024-02-21T08:17:31.094375Z"
    },
    "papermill": {
     "duration": 0.018335,
     "end_time": "2024-02-21T08:17:31.098095",
     "exception": false,
     "start_time": "2024-02-21T08:17:31.079760",
     "status": "completed"
    },
    "tags": []
   },
   "outputs": [],
   "source": [
    "#loading the necessary data \n",
    "import pandas as pd\n",
    "import numpy as np\n",
    "import matplotlib.pyplot as plt\n"
   ]
  },
  {
   "cell_type": "code",
   "execution_count": 3,
   "id": "1838f4bb",
   "metadata": {
    "execution": {
     "iopub.execute_input": "2024-02-21T08:17:31.116874Z",
     "iopub.status.busy": "2024-02-21T08:17:31.116393Z",
     "iopub.status.idle": "2024-02-21T08:17:31.140313Z",
     "shell.execute_reply": "2024-02-21T08:17:31.139167Z"
    },
    "papermill": {
     "duration": 0.036504,
     "end_time": "2024-02-21T08:17:31.142784",
     "exception": false,
     "start_time": "2024-02-21T08:17:31.106280",
     "status": "completed"
    },
    "tags": []
   },
   "outputs": [
    {
     "data": {
      "text/plain": [
       "200"
      ]
     },
     "execution_count": 3,
     "metadata": {},
     "output_type": "execute_result"
    }
   ],
   "source": [
    "#loading the data set\n",
    "df = pd.read_csv(\"../input/drugs-a-b-c-x-y-for-decision-trees/drug200.csv\")\n",
    "df.head()\n",
    "len(df)"
   ]
  },
  {
   "cell_type": "markdown",
   "id": "4de0523d",
   "metadata": {
    "papermill": {
     "duration": 0.008053,
     "end_time": "2024-02-21T08:17:31.159102",
     "exception": false,
     "start_time": "2024-02-21T08:17:31.151049",
     "status": "completed"
    },
    "tags": []
   },
   "source": []
  },
  {
   "cell_type": "code",
   "execution_count": 4,
   "id": "d5a67dff",
   "metadata": {
    "execution": {
     "iopub.execute_input": "2024-02-21T08:17:31.178540Z",
     "iopub.status.busy": "2024-02-21T08:17:31.177819Z",
     "iopub.status.idle": "2024-02-21T08:17:31.212838Z",
     "shell.execute_reply": "2024-02-21T08:17:31.211431Z"
    },
    "papermill": {
     "duration": 0.048008,
     "end_time": "2024-02-21T08:17:31.215684",
     "exception": false,
     "start_time": "2024-02-21T08:17:31.167676",
     "status": "completed"
    },
    "tags": []
   },
   "outputs": [
    {
     "data": {
      "text/html": [
       "<div>\n",
       "<style scoped>\n",
       "    .dataframe tbody tr th:only-of-type {\n",
       "        vertical-align: middle;\n",
       "    }\n",
       "\n",
       "    .dataframe tbody tr th {\n",
       "        vertical-align: top;\n",
       "    }\n",
       "\n",
       "    .dataframe thead th {\n",
       "        text-align: right;\n",
       "    }\n",
       "</style>\n",
       "<table border=\"1\" class=\"dataframe\">\n",
       "  <thead>\n",
       "    <tr style=\"text-align: right;\">\n",
       "      <th></th>\n",
       "      <th>Age</th>\n",
       "      <th>Sex</th>\n",
       "      <th>BP</th>\n",
       "      <th>Cholesterol</th>\n",
       "      <th>Na_to_K</th>\n",
       "      <th>Drug</th>\n",
       "    </tr>\n",
       "  </thead>\n",
       "  <tbody>\n",
       "    <tr>\n",
       "      <th>0</th>\n",
       "      <td>23</td>\n",
       "      <td>F</td>\n",
       "      <td>HIGH</td>\n",
       "      <td>HIGH</td>\n",
       "      <td>25.355</td>\n",
       "      <td>drugY</td>\n",
       "    </tr>\n",
       "    <tr>\n",
       "      <th>1</th>\n",
       "      <td>47</td>\n",
       "      <td>M</td>\n",
       "      <td>LOW</td>\n",
       "      <td>HIGH</td>\n",
       "      <td>13.093</td>\n",
       "      <td>drugC</td>\n",
       "    </tr>\n",
       "    <tr>\n",
       "      <th>2</th>\n",
       "      <td>47</td>\n",
       "      <td>M</td>\n",
       "      <td>LOW</td>\n",
       "      <td>HIGH</td>\n",
       "      <td>10.114</td>\n",
       "      <td>drugC</td>\n",
       "    </tr>\n",
       "    <tr>\n",
       "      <th>3</th>\n",
       "      <td>28</td>\n",
       "      <td>F</td>\n",
       "      <td>NORMAL</td>\n",
       "      <td>HIGH</td>\n",
       "      <td>7.798</td>\n",
       "      <td>drugX</td>\n",
       "    </tr>\n",
       "    <tr>\n",
       "      <th>4</th>\n",
       "      <td>61</td>\n",
       "      <td>F</td>\n",
       "      <td>LOW</td>\n",
       "      <td>HIGH</td>\n",
       "      <td>18.043</td>\n",
       "      <td>drugY</td>\n",
       "    </tr>\n",
       "    <tr>\n",
       "      <th>...</th>\n",
       "      <td>...</td>\n",
       "      <td>...</td>\n",
       "      <td>...</td>\n",
       "      <td>...</td>\n",
       "      <td>...</td>\n",
       "      <td>...</td>\n",
       "    </tr>\n",
       "    <tr>\n",
       "      <th>195</th>\n",
       "      <td>56</td>\n",
       "      <td>F</td>\n",
       "      <td>LOW</td>\n",
       "      <td>HIGH</td>\n",
       "      <td>11.567</td>\n",
       "      <td>drugC</td>\n",
       "    </tr>\n",
       "    <tr>\n",
       "      <th>196</th>\n",
       "      <td>16</td>\n",
       "      <td>M</td>\n",
       "      <td>LOW</td>\n",
       "      <td>HIGH</td>\n",
       "      <td>12.006</td>\n",
       "      <td>drugC</td>\n",
       "    </tr>\n",
       "    <tr>\n",
       "      <th>197</th>\n",
       "      <td>52</td>\n",
       "      <td>M</td>\n",
       "      <td>NORMAL</td>\n",
       "      <td>HIGH</td>\n",
       "      <td>9.894</td>\n",
       "      <td>drugX</td>\n",
       "    </tr>\n",
       "    <tr>\n",
       "      <th>198</th>\n",
       "      <td>23</td>\n",
       "      <td>M</td>\n",
       "      <td>NORMAL</td>\n",
       "      <td>NORMAL</td>\n",
       "      <td>14.020</td>\n",
       "      <td>drugX</td>\n",
       "    </tr>\n",
       "    <tr>\n",
       "      <th>199</th>\n",
       "      <td>40</td>\n",
       "      <td>F</td>\n",
       "      <td>LOW</td>\n",
       "      <td>NORMAL</td>\n",
       "      <td>11.349</td>\n",
       "      <td>drugX</td>\n",
       "    </tr>\n",
       "  </tbody>\n",
       "</table>\n",
       "<p>200 rows × 6 columns</p>\n",
       "</div>"
      ],
      "text/plain": [
       "     Age Sex      BP Cholesterol  Na_to_K   Drug\n",
       "0     23   F    HIGH        HIGH   25.355  drugY\n",
       "1     47   M     LOW        HIGH   13.093  drugC\n",
       "2     47   M     LOW        HIGH   10.114  drugC\n",
       "3     28   F  NORMAL        HIGH    7.798  drugX\n",
       "4     61   F     LOW        HIGH   18.043  drugY\n",
       "..   ...  ..     ...         ...      ...    ...\n",
       "195   56   F     LOW        HIGH   11.567  drugC\n",
       "196   16   M     LOW        HIGH   12.006  drugC\n",
       "197   52   M  NORMAL        HIGH    9.894  drugX\n",
       "198   23   M  NORMAL      NORMAL   14.020  drugX\n",
       "199   40   F     LOW      NORMAL   11.349  drugX\n",
       "\n",
       "[200 rows x 6 columns]"
      ]
     },
     "execution_count": 4,
     "metadata": {},
     "output_type": "execute_result"
    }
   ],
   "source": [
    "#removing not a number values\n",
    "df.dropna()\n",
    "\n"
   ]
  },
  {
   "cell_type": "code",
   "execution_count": 5,
   "id": "9970d199",
   "metadata": {
    "execution": {
     "iopub.execute_input": "2024-02-21T08:17:31.235420Z",
     "iopub.status.busy": "2024-02-21T08:17:31.235041Z",
     "iopub.status.idle": "2024-02-21T08:17:31.689760Z",
     "shell.execute_reply": "2024-02-21T08:17:31.688390Z"
    },
    "papermill": {
     "duration": 0.468336,
     "end_time": "2024-02-21T08:17:31.692749",
     "exception": false,
     "start_time": "2024-02-21T08:17:31.224413",
     "status": "completed"
    },
    "tags": []
   },
   "outputs": [
    {
     "data": {
      "text/plain": [
       "<Figure size 1000x500 with 0 Axes>"
      ]
     },
     "metadata": {},
     "output_type": "display_data"
    },
    {
     "data": {
      "image/png": "[encoded data removed]",
      "text/plain": [
       "<Figure size 640x480 with 2 Axes>"
      ]
     },
     "metadata": {},
     "output_type": "display_data"
    }
   ],
   "source": [
    "#Data Visualization\n",
    "#bar plot for the data\n",
    "fig = plt.figure(figsize = (10, 5))\n",
    " \n",
    "# creating the hist plot\n",
    "df.hist()\n",
    "plt.show()"
   ]
  },
  {
   "cell_type": "code",
   "execution_count": 6,
   "id": "06d4d826",
   "metadata": {
    "execution": {
     "iopub.execute_input": "2024-02-21T08:17:31.713252Z",
     "iopub.status.busy": "2024-02-21T08:17:31.712813Z",
     "iopub.status.idle": "2024-02-21T08:17:31.720322Z",
     "shell.execute_reply": "2024-02-21T08:17:31.719107Z"
    },
    "papermill": {
     "duration": 0.020703,
     "end_time": "2024-02-21T08:17:31.723008",
     "exception": false,
     "start_time": "2024-02-21T08:17:31.702305",
     "status": "completed"
    },
    "tags": []
   },
   "outputs": [
    {
     "data": {
      "text/plain": [
       "200"
      ]
     },
     "execution_count": 6,
     "metadata": {},
     "output_type": "execute_result"
    }
   ],
   "source": [
    "len(df)"
   ]
  },
  {
   "cell_type": "code",
   "execution_count": 7,
   "id": "60b2a77a",
   "metadata": {
    "execution": {
     "iopub.execute_input": "2024-02-21T08:17:31.743629Z",
     "iopub.status.busy": "2024-02-21T08:17:31.742969Z",
     "iopub.status.idle": "2024-02-21T08:17:33.308427Z",
     "shell.execute_reply": "2024-02-21T08:17:33.307408Z"
    },
    "papermill": {
     "duration": 1.578817,
     "end_time": "2024-02-21T08:17:33.311049",
     "exception": false,
     "start_time": "2024-02-21T08:17:31.732232",
     "status": "completed"
    },
    "tags": []
   },
   "outputs": [],
   "source": [
    "#label encoding the dataset to convert str to floats\n",
    "# Import label encoder \n",
    "from sklearn import preprocessing \n",
    "# label_encoder object knows  \n",
    "# how to understand word labels. \n",
    "label_encoder = preprocessing.LabelEncoder() \n",
    "# Encode labels in column Sex BP Cholesterol Drug . \n",
    "df['Sex']= label_encoder.fit_transform(df['Sex']) \n",
    "df['BP']= label_encoder.fit_transform(df['BP']) \n",
    "df['Cholesterol']= label_encoder.fit_transform(df['Cholesterol']) \n",
    "df['Drug']= label_encoder.fit_transform(df['Drug']) \n",
    "  \n",
    "df.tail()\n",
    "# To delete the last 4 rows\n",
    "N = 4  # Example: delete the last 4 rows\n",
    "df = df.iloc[:-4]\n",
    "df1= df.tail()\n"
   ]
  },
  {
   "cell_type": "code",
   "execution_count": 8,
   "id": "03ad3f9c",
   "metadata": {
    "execution": {
     "iopub.execute_input": "2024-02-21T08:17:33.331766Z",
     "iopub.status.busy": "2024-02-21T08:17:33.331133Z",
     "iopub.status.idle": "2024-02-21T08:17:33.338786Z",
     "shell.execute_reply": "2024-02-21T08:17:33.337519Z"
    },
    "papermill": {
     "duration": 0.020889,
     "end_time": "2024-02-21T08:17:33.341243",
     "exception": false,
     "start_time": "2024-02-21T08:17:33.320354",
     "status": "completed"
    },
    "tags": []
   },
   "outputs": [
    {
     "data": {
      "text/plain": [
       "196"
      ]
     },
     "execution_count": 8,
     "metadata": {},
     "output_type": "execute_result"
    }
   ],
   "source": [
    "len(df)"
   ]
  },
  {
   "cell_type": "code",
   "execution_count": 9,
   "id": "ccdb512f",
   "metadata": {
    "execution": {
     "iopub.execute_input": "2024-02-21T08:17:33.362943Z",
     "iopub.status.busy": "2024-02-21T08:17:33.362091Z",
     "iopub.status.idle": "2024-02-21T08:17:33.824731Z",
     "shell.execute_reply": "2024-02-21T08:17:33.823627Z"
    },
    "papermill": {
     "duration": 0.476249,
     "end_time": "2024-02-21T08:17:33.827544",
     "exception": false,
     "start_time": "2024-02-21T08:17:33.351295",
     "status": "completed"
    },
    "tags": []
   },
   "outputs": [],
   "source": [
    "#Importing Decision Tree libraries\n",
    "from sklearn.model_selection import train_test_split\n",
    "from sklearn.tree import DecisionTreeClassifier\n",
    "from sklearn.metrics import accuracy_score\n",
    "from sklearn import tree\n",
    "import joblib\n"
   ]
  },
  {
   "cell_type": "code",
   "execution_count": 10,
   "id": "d38fdf8b",
   "metadata": {
    "execution": {
     "iopub.execute_input": "2024-02-21T08:17:33.849491Z",
     "iopub.status.busy": "2024-02-21T08:17:33.848371Z",
     "iopub.status.idle": "2024-02-21T08:17:33.858324Z",
     "shell.execute_reply": "2024-02-21T08:17:33.857118Z"
    },
    "papermill": {
     "duration": 0.02368,
     "end_time": "2024-02-21T08:17:33.861087",
     "exception": false,
     "start_time": "2024-02-21T08:17:33.837407",
     "status": "completed"
    },
    "tags": []
   },
   "outputs": [],
   "source": [
    "#TRAIN TEST SPLIT THE DATA\n",
    "X = df.drop(['Drug'],axis=1)\n",
    "X.head()\n",
    "\n",
    "from sklearn.preprocessing import LabelEncoder\n",
    "# Assuming 'target_column' is the name of your target column\n",
    "label_encoder = LabelEncoder()\n",
    "y= label_encoder.fit_transform(df['Drug'])\n",
    "# using the train test split method to split the data\n",
    "X_train, X_test, y_train, y_test = train_test_split(X,y,test_size=0.2,shuffle=True) "
   ]
  },
  {
   "cell_type": "code",
   "execution_count": 11,
   "id": "f6a90a31",
   "metadata": {
    "execution": {
     "iopub.execute_input": "2024-02-21T08:17:33.883495Z",
     "iopub.status.busy": "2024-02-21T08:17:33.883074Z",
     "iopub.status.idle": "2024-02-21T08:17:33.899070Z",
     "shell.execute_reply": "2024-02-21T08:17:33.897797Z"
    },
    "papermill": {
     "duration": 0.029997,
     "end_time": "2024-02-21T08:17:33.901808",
     "exception": false,
     "start_time": "2024-02-21T08:17:33.871811",
     "status": "completed"
    },
    "tags": []
   },
   "outputs": [
    {
     "data": {
      "text/html": [
       "<style>#sk-container-id-1 {color: black;background-color: white;}#sk-container-id-1 pre{padding: 0;}#sk-container-id-1 div.sk-toggleable {background-color: white;}#sk-container-id-1 label.sk-toggleable__label {cursor: pointer;display: block;width: 100%;margin-bottom: 0;padding: 0.3em;box-sizing: border-box;text-align: center;}#sk-container-id-1 label.sk-toggleable__label-arrow:before {content: \"▸\";float: left;margin-right: 0.25em;color: #696969;}#sk-container-id-1 label.sk-toggleable__label-arrow:hover:before {color: black;}#sk-container-id-1 div.sk-estimator:hover label.sk-toggleable__label-arrow:before {color: black;}#sk-container-id-1 div.sk-toggleable__content {max-height: 0;max-width: 0;overflow: hidden;text-align: left;background-color: #f0f8ff;}#sk-container-id-1 div.sk-toggleable__content pre {margin: 0.2em;color: black;border-radius: 0.25em;background-color: #f0f8ff;}#sk-container-id-1 input.sk-toggleable__control:checked~div.sk-toggleable__content {max-height: 200px;max-width: 100%;overflow: auto;}#sk-container-id-1 input.sk-toggleable__control:checked~label.sk-toggleable__label-arrow:before {content: \"▾\";}#sk-container-id-1 div.sk-estimator input.sk-toggleable__control:checked~label.sk-toggleable__label {background-color: #d4ebff;}#sk-container-id-1 div.sk-label input.sk-toggleable__control:checked~label.sk-toggleable__label {background-color: #d4ebff;}#sk-container-id-1 input.sk-hidden--visually {border: 0;clip: rect(1px 1px 1px 1px);clip: rect(1px, 1px, 1px, 1px);height: 1px;margin: -1px;overflow: hidden;padding: 0;position: absolute;width: 1px;}#sk-container-id-1 div.sk-estimator {font-family: monospace;background-color: #f0f8ff;border: 1px dotted black;border-radius: 0.25em;box-sizing: border-box;margin-bottom: 0.5em;}#sk-container-id-1 div.sk-estimator:hover {background-color: #d4ebff;}#sk-container-id-1 div.sk-parallel-item::after {content: \"\";width: 100%;border-bottom: 1px solid gray;flex-grow: 1;}#sk-container-id-1 div.sk-label:hover label.sk-toggleable__label {background-color: #d4ebff;}#sk-container-id-1 div.sk-serial::before {content: \"\";position: absolute;border-left: 1px solid gray;box-sizing: border-box;top: 0;bottom: 0;left: 50%;z-index: 0;}#sk-container-id-1 div.sk-serial {display: flex;flex-direction: column;align-items: center;background-color: white;padding-right: 0.2em;padding-left: 0.2em;position: relative;}#sk-container-id-1 div.sk-item {position: relative;z-index: 1;}#sk-container-id-1 div.sk-parallel {display: flex;align-items: stretch;justify-content: center;background-color: white;position: relative;}#sk-container-id-1 div.sk-item::before, #sk-container-id-1 div.sk-parallel-item::before {content: \"\";position: absolute;border-left: 1px solid gray;box-sizing: border-box;top: 0;bottom: 0;left: 50%;z-index: -1;}#sk-container-id-1 div.sk-parallel-item {display: flex;flex-direction: column;z-index: 1;position: relative;background-color: white;}#sk-container-id-1 div.sk-parallel-item:first-child::after {align-self: flex-end;width: 50%;}#sk-container-id-1 div.sk-parallel-item:last-child::after {align-self: flex-start;width: 50%;}#sk-container-id-1 div.sk-parallel-item:only-child::after {width: 0;}#sk-container-id-1 div.sk-dashed-wrapped {border: 1px dashed gray;margin: 0 0.4em 0.5em 0.4em;box-sizing: border-box;padding-bottom: 0.4em;background-color: white;}#sk-container-id-1 div.sk-label label {font-family: monospace;font-weight: bold;display: inline-block;line-height: 1.2em;}#sk-container-id-1 div.sk-label-container {text-align: center;}#sk-container-id-1 div.sk-container {/* jupyter's `normalize.less` sets `[hidden] { display: none; }` but bootstrap.min.css set `[hidden] { display: none !important; }` so we also need the `!important` here to be able to override the default hidden behavior on the sphinx rendered scikit-learn.org. See: https://github.com/scikit-learn/scikit-learn/issues/21755 */display: inline-block !important;position: relative;}#sk-container-id-1 div.sk-text-repr-fallback {display: none;}</style><div id=\"sk-container-id-1\" class=\"sk-top-container\"><div class=\"sk-text-repr-fallback\"><pre>DecisionTreeClassifier()</pre><b>In a Jupyter environment, please rerun this cell to show the HTML representation or trust the notebook. <br />On GitHub, the HTML representation is unable to render, please try loading this page with nbviewer.org.</b></div><div class=\"sk-container\" hidden><div class=\"sk-item\"><div class=\"sk-estimator sk-toggleable\"><input class=\"sk-toggleable__control sk-hidden--visually\" id=\"sk-estimator-id-1\" type=\"checkbox\" checked><label for=\"sk-estimator-id-1\" class=\"sk-toggleable__label sk-toggleable__label-arrow\">DecisionTreeClassifier</label><div class=\"sk-toggleable__content\"><pre>DecisionTreeClassifier()</pre></div></div></div></div></div>"
      ],
      "text/plain": [
       "DecisionTreeClassifier()"
      ]
     },
     "execution_count": 11,
     "metadata": {},
     "output_type": "execute_result"
    }
   ],
   "source": [
    "# Create a Decision Tree model\n",
    "decision_tree = DecisionTreeClassifier()\n",
    "\n",
    "# Train the model on the training set\n",
    "decision_tree.fit(X_train, y_train)"
   ]
  },
  {
   "cell_type": "code",
   "execution_count": 12,
   "id": "a4e22565",
   "metadata": {
    "execution": {
     "iopub.execute_input": "2024-02-21T08:17:33.923331Z",
     "iopub.status.busy": "2024-02-21T08:17:33.922501Z",
     "iopub.status.idle": "2024-02-21T08:17:33.932488Z",
     "shell.execute_reply": "2024-02-21T08:17:33.930972Z"
    },
    "papermill": {
     "duration": 0.023739,
     "end_time": "2024-02-21T08:17:33.935201",
     "exception": false,
     "start_time": "2024-02-21T08:17:33.911462",
     "status": "completed"
    },
    "tags": []
   },
   "outputs": [
    {
     "name": "stdout",
     "output_type": "stream",
     "text": [
      "Decision Tree model accuracy on the test set: 97.50%\n",
      "97.5\n"
     ]
    }
   ],
   "source": [
    "# Make predictions on the test set\n",
    "predictions = decision_tree.predict(X_test)\n",
    "\n",
    "# Calculate the accuracy of the model\n",
    "accuracy = accuracy_score(y_test, predictions)\n",
    "\n",
    "print(f\"Decision Tree model accuracy on the test set: {accuracy:.2%}\")\n",
    "print(accuracy*100)\n"
   ]
  },
  {
   "cell_type": "code",
   "execution_count": 13,
   "id": "ee033ba4",
   "metadata": {
    "execution": {
     "iopub.execute_input": "2024-02-21T08:17:33.957205Z",
     "iopub.status.busy": "2024-02-21T08:17:33.956165Z",
     "iopub.status.idle": "2024-02-21T08:17:33.969818Z",
     "shell.execute_reply": "2024-02-21T08:17:33.968604Z"
    },
    "papermill": {
     "duration": 0.027323,
     "end_time": "2024-02-21T08:17:33.972473",
     "exception": false,
     "start_time": "2024-02-21T08:17:33.945150",
     "status": "completed"
    },
    "tags": []
   },
   "outputs": [
    {
     "data": {
      "text/html": [
       "<div>\n",
       "<style scoped>\n",
       "    .dataframe tbody tr th:only-of-type {\n",
       "        vertical-align: middle;\n",
       "    }\n",
       "\n",
       "    .dataframe tbody tr th {\n",
       "        vertical-align: top;\n",
       "    }\n",
       "\n",
       "    .dataframe thead th {\n",
       "        text-align: right;\n",
       "    }\n",
       "</style>\n",
       "<table border=\"1\" class=\"dataframe\">\n",
       "  <thead>\n",
       "    <tr style=\"text-align: right;\">\n",
       "      <th></th>\n",
       "      <th>Age</th>\n",
       "      <th>Sex</th>\n",
       "      <th>BP</th>\n",
       "      <th>Cholesterol</th>\n",
       "      <th>Na_to_K</th>\n",
       "    </tr>\n",
       "  </thead>\n",
       "  <tbody>\n",
       "    <tr>\n",
       "      <th>191</th>\n",
       "      <td>23</td>\n",
       "      <td>1</td>\n",
       "      <td>0</td>\n",
       "      <td>0</td>\n",
       "      <td>8.011</td>\n",
       "    </tr>\n",
       "    <tr>\n",
       "      <th>192</th>\n",
       "      <td>72</td>\n",
       "      <td>1</td>\n",
       "      <td>1</td>\n",
       "      <td>0</td>\n",
       "      <td>16.310</td>\n",
       "    </tr>\n",
       "    <tr>\n",
       "      <th>193</th>\n",
       "      <td>72</td>\n",
       "      <td>1</td>\n",
       "      <td>1</td>\n",
       "      <td>0</td>\n",
       "      <td>6.769</td>\n",
       "    </tr>\n",
       "    <tr>\n",
       "      <th>194</th>\n",
       "      <td>46</td>\n",
       "      <td>0</td>\n",
       "      <td>0</td>\n",
       "      <td>0</td>\n",
       "      <td>34.686</td>\n",
       "    </tr>\n",
       "    <tr>\n",
       "      <th>195</th>\n",
       "      <td>56</td>\n",
       "      <td>0</td>\n",
       "      <td>1</td>\n",
       "      <td>0</td>\n",
       "      <td>11.567</td>\n",
       "    </tr>\n",
       "  </tbody>\n",
       "</table>\n",
       "</div>"
      ],
      "text/plain": [
       "     Age  Sex  BP  Cholesterol  Na_to_K\n",
       "191   23    1   0            0    8.011\n",
       "192   72    1   1            0   16.310\n",
       "193   72    1   1            0    6.769\n",
       "194   46    0   0            0   34.686\n",
       "195   56    0   1            0   11.567"
      ]
     },
     "execution_count": 13,
     "metadata": {},
     "output_type": "execute_result"
    }
   ],
   "source": [
    "test2 = df1.drop('Drug',axis=1)\n",
    "test2"
   ]
  },
  {
   "cell_type": "code",
   "execution_count": 14,
   "id": "c3cb74f4",
   "metadata": {
    "execution": {
     "iopub.execute_input": "2024-02-21T08:17:33.994448Z",
     "iopub.status.busy": "2024-02-21T08:17:33.993650Z",
     "iopub.status.idle": "2024-02-21T08:17:34.001724Z",
     "shell.execute_reply": "2024-02-21T08:17:34.000351Z"
    },
    "papermill": {
     "duration": 0.021738,
     "end_time": "2024-02-21T08:17:34.004146",
     "exception": false,
     "start_time": "2024-02-21T08:17:33.982408",
     "status": "completed"
    },
    "tags": []
   },
   "outputs": [
    {
     "name": "stdout",
     "output_type": "stream",
     "text": [
      "[0 4 2 4 2]\n"
     ]
    }
   ],
   "source": [
    "# Make predictions on the test set\n",
    "prediction2 = decision_tree.predict(test2)\n",
    "print(prediction2)"
   ]
  },
  {
   "cell_type": "code",
   "execution_count": 15,
   "id": "ccbf7ec2",
   "metadata": {
    "execution": {
     "iopub.execute_input": "2024-02-21T08:17:34.027022Z",
     "iopub.status.busy": "2024-02-21T08:17:34.026592Z",
     "iopub.status.idle": "2024-02-21T08:17:34.038337Z",
     "shell.execute_reply": "2024-02-21T08:17:34.037434Z"
    },
    "papermill": {
     "duration": 0.026271,
     "end_time": "2024-02-21T08:17:34.040644",
     "exception": false,
     "start_time": "2024-02-21T08:17:34.014373",
     "status": "completed"
    },
    "tags": []
   },
   "outputs": [
    {
     "data": {
      "text/html": [
       "<div>\n",
       "<style scoped>\n",
       "    .dataframe tbody tr th:only-of-type {\n",
       "        vertical-align: middle;\n",
       "    }\n",
       "\n",
       "    .dataframe tbody tr th {\n",
       "        vertical-align: top;\n",
       "    }\n",
       "\n",
       "    .dataframe thead th {\n",
       "        text-align: right;\n",
       "    }\n",
       "</style>\n",
       "<table border=\"1\" class=\"dataframe\">\n",
       "  <thead>\n",
       "    <tr style=\"text-align: right;\">\n",
       "      <th></th>\n",
       "      <th>Age</th>\n",
       "      <th>Sex</th>\n",
       "      <th>BP</th>\n",
       "      <th>Cholesterol</th>\n",
       "      <th>Na_to_K</th>\n",
       "      <th>Drug</th>\n",
       "    </tr>\n",
       "  </thead>\n",
       "  <tbody>\n",
       "    <tr>\n",
       "      <th>191</th>\n",
       "      <td>23</td>\n",
       "      <td>1</td>\n",
       "      <td>0</td>\n",
       "      <td>0</td>\n",
       "      <td>8.011</td>\n",
       "      <td>0</td>\n",
       "    </tr>\n",
       "    <tr>\n",
       "      <th>192</th>\n",
       "      <td>72</td>\n",
       "      <td>1</td>\n",
       "      <td>1</td>\n",
       "      <td>0</td>\n",
       "      <td>16.310</td>\n",
       "      <td>4</td>\n",
       "    </tr>\n",
       "    <tr>\n",
       "      <th>193</th>\n",
       "      <td>72</td>\n",
       "      <td>1</td>\n",
       "      <td>1</td>\n",
       "      <td>0</td>\n",
       "      <td>6.769</td>\n",
       "      <td>2</td>\n",
       "    </tr>\n",
       "    <tr>\n",
       "      <th>194</th>\n",
       "      <td>46</td>\n",
       "      <td>0</td>\n",
       "      <td>0</td>\n",
       "      <td>0</td>\n",
       "      <td>34.686</td>\n",
       "      <td>4</td>\n",
       "    </tr>\n",
       "    <tr>\n",
       "      <th>195</th>\n",
       "      <td>56</td>\n",
       "      <td>0</td>\n",
       "      <td>1</td>\n",
       "      <td>0</td>\n",
       "      <td>11.567</td>\n",
       "      <td>2</td>\n",
       "    </tr>\n",
       "  </tbody>\n",
       "</table>\n",
       "</div>"
      ],
      "text/plain": [
       "     Age  Sex  BP  Cholesterol  Na_to_K  Drug\n",
       "191   23    1   0            0    8.011     0\n",
       "192   72    1   1            0   16.310     4\n",
       "193   72    1   1            0    6.769     2\n",
       "194   46    0   0            0   34.686     4\n",
       "195   56    0   1            0   11.567     2"
      ]
     },
     "execution_count": 15,
     "metadata": {},
     "output_type": "execute_result"
    }
   ],
   "source": [
    "df1"
   ]
  },
  {
   "cell_type": "code",
   "execution_count": 16,
   "id": "744999ba",
   "metadata": {
    "execution": {
     "iopub.execute_input": "2024-02-21T08:17:34.063441Z",
     "iopub.status.busy": "2024-02-21T08:17:34.062783Z",
     "iopub.status.idle": "2024-02-21T08:17:34.075313Z",
     "shell.execute_reply": "2024-02-21T08:17:34.073891Z"
    },
    "papermill": {
     "duration": 0.026986,
     "end_time": "2024-02-21T08:17:34.078002",
     "exception": false,
     "start_time": "2024-02-21T08:17:34.051016",
     "status": "completed"
    },
    "tags": []
   },
   "outputs": [
    {
     "name": "stdout",
     "output_type": "stream",
     "text": [
      "   Age Sex      BP Cholesterol  Na_to_K   Drug\n",
      "0   28   M  NORMAL      NORMAL     12.0  drugA\n",
      "1   65   F    HIGH      NORMAL      8.5  DrugY\n",
      "2   42   M    HIGH        HIGH     15.3  drugB\n",
      "3   59   F  NORMAL         LOW     10.2  drugA\n",
      "4   36   M     LOW        HIGH      9.8  drugB\n",
      "5   47   F     LOW      NORMAL     14.2  DrugY\n"
     ]
    }
   ],
   "source": [
    "# Define data as a dictionary with different values\n",
    "data = {\n",
    "    'Age': [28, 65, 42, 59, 36, 47],  # Example ages\n",
    "    'Sex': ['M', 'F', 'M', 'F', 'M', 'F'],  # F for female, M for male\n",
    "    'BP': ['NORMAL', 'HIGH', 'HIGH', 'NORMAL', 'LOW', 'LOW'],  # Blood pressure levels\n",
    "    'Cholesterol': ['NORMAL', 'NORMAL', 'HIGH', 'LOW', 'HIGH', 'NORMAL'],  # Cholesterol levels\n",
    "    'Na_to_K': [12.0, 8.5, 15.3, 10.2, 9.8, 14.2],  # Sodium to Potassium ratio\n",
    "    'Drug': ['drugA', 'DrugY', 'drugB', 'drugA', 'drugB', 'DrugY']  # Prescribed drug\n",
    "}\n",
    "\n",
    "# Create DataFrame\n",
    "df3 = pd.DataFrame(data)\n",
    "\n",
    "# Display the DataFrame\n",
    "print(df3)"
   ]
  },
  {
   "cell_type": "code",
   "execution_count": 17,
   "id": "ee8d2333",
   "metadata": {
    "execution": {
     "iopub.execute_input": "2024-02-21T08:17:34.100601Z",
     "iopub.status.busy": "2024-02-21T08:17:34.100204Z",
     "iopub.status.idle": "2024-02-21T08:17:34.111732Z",
     "shell.execute_reply": "2024-02-21T08:17:34.110541Z"
    },
    "papermill": {
     "duration": 0.025793,
     "end_time": "2024-02-21T08:17:34.114328",
     "exception": false,
     "start_time": "2024-02-21T08:17:34.088535",
     "status": "completed"
    },
    "tags": []
   },
   "outputs": [],
   "source": [
    "#label encoding the dataset to convert str to floats\n",
    "# Import label encoder \n",
    "from sklearn import preprocessing \n",
    "# label_encoder object knows  \n",
    "# how to understand word labels. \n",
    "label_encoder = preprocessing.LabelEncoder() \n",
    "# Encode labels in column Sex BP Cholesterol Drug . \n",
    "df3['Sex']= label_encoder.fit_transform(df3['Sex']) \n",
    "df3['BP']= label_encoder.fit_transform(df3['BP']) \n",
    "df3['Cholesterol']= label_encoder.fit_transform(df3['Cholesterol']) \n",
    "df3['Drug']= label_encoder.fit_transform(df3['Drug']) \n",
    "test3 =df3.drop('Drug',axis=1)\n"
   ]
  },
  {
   "cell_type": "code",
   "execution_count": 18,
   "id": "392c3121",
   "metadata": {
    "execution": {
     "iopub.execute_input": "2024-02-21T08:17:34.137505Z",
     "iopub.status.busy": "2024-02-21T08:17:34.137087Z",
     "iopub.status.idle": "2024-02-21T08:17:34.145352Z",
     "shell.execute_reply": "2024-02-21T08:17:34.144229Z"
    },
    "papermill": {
     "duration": 0.022566,
     "end_time": "2024-02-21T08:17:34.147640",
     "exception": false,
     "start_time": "2024-02-21T08:17:34.125074",
     "status": "completed"
    },
    "tags": []
   },
   "outputs": [
    {
     "name": "stdout",
     "output_type": "stream",
     "text": [
      "[3 1 4 3 2 3]\n"
     ]
    }
   ],
   "source": [
    "# Make predictions on the test set\n",
    "prediction3 = decision_tree.predict(test3)\n",
    "print(prediction3)"
   ]
  },
  {
   "cell_type": "code",
   "execution_count": 19,
   "id": "02aee5a1",
   "metadata": {
    "execution": {
     "iopub.execute_input": "2024-02-21T08:17:34.170961Z",
     "iopub.status.busy": "2024-02-21T08:17:34.170499Z",
     "iopub.status.idle": "2024-02-21T08:17:34.184075Z",
     "shell.execute_reply": "2024-02-21T08:17:34.182737Z"
    },
    "papermill": {
     "duration": 0.027876,
     "end_time": "2024-02-21T08:17:34.186625",
     "exception": false,
     "start_time": "2024-02-21T08:17:34.158749",
     "status": "completed"
    },
    "tags": []
   },
   "outputs": [
    {
     "data": {
      "text/html": [
       "<div>\n",
       "<style scoped>\n",
       "    .dataframe tbody tr th:only-of-type {\n",
       "        vertical-align: middle;\n",
       "    }\n",
       "\n",
       "    .dataframe tbody tr th {\n",
       "        vertical-align: top;\n",
       "    }\n",
       "\n",
       "    .dataframe thead th {\n",
       "        text-align: right;\n",
       "    }\n",
       "</style>\n",
       "<table border=\"1\" class=\"dataframe\">\n",
       "  <thead>\n",
       "    <tr style=\"text-align: right;\">\n",
       "      <th></th>\n",
       "      <th>Age</th>\n",
       "      <th>Sex</th>\n",
       "      <th>BP</th>\n",
       "      <th>Cholesterol</th>\n",
       "      <th>Na_to_K</th>\n",
       "      <th>Drug</th>\n",
       "    </tr>\n",
       "  </thead>\n",
       "  <tbody>\n",
       "    <tr>\n",
       "      <th>0</th>\n",
       "      <td>28</td>\n",
       "      <td>1</td>\n",
       "      <td>2</td>\n",
       "      <td>2</td>\n",
       "      <td>12.0</td>\n",
       "      <td>1</td>\n",
       "    </tr>\n",
       "    <tr>\n",
       "      <th>1</th>\n",
       "      <td>65</td>\n",
       "      <td>0</td>\n",
       "      <td>0</td>\n",
       "      <td>2</td>\n",
       "      <td>8.5</td>\n",
       "      <td>0</td>\n",
       "    </tr>\n",
       "    <tr>\n",
       "      <th>2</th>\n",
       "      <td>42</td>\n",
       "      <td>1</td>\n",
       "      <td>0</td>\n",
       "      <td>0</td>\n",
       "      <td>15.3</td>\n",
       "      <td>2</td>\n",
       "    </tr>\n",
       "    <tr>\n",
       "      <th>3</th>\n",
       "      <td>59</td>\n",
       "      <td>0</td>\n",
       "      <td>2</td>\n",
       "      <td>1</td>\n",
       "      <td>10.2</td>\n",
       "      <td>1</td>\n",
       "    </tr>\n",
       "    <tr>\n",
       "      <th>4</th>\n",
       "      <td>36</td>\n",
       "      <td>1</td>\n",
       "      <td>1</td>\n",
       "      <td>0</td>\n",
       "      <td>9.8</td>\n",
       "      <td>2</td>\n",
       "    </tr>\n",
       "    <tr>\n",
       "      <th>5</th>\n",
       "      <td>47</td>\n",
       "      <td>0</td>\n",
       "      <td>1</td>\n",
       "      <td>2</td>\n",
       "      <td>14.2</td>\n",
       "      <td>0</td>\n",
       "    </tr>\n",
       "  </tbody>\n",
       "</table>\n",
       "</div>"
      ],
      "text/plain": [
       "   Age  Sex  BP  Cholesterol  Na_to_K  Drug\n",
       "0   28    1   2            2     12.0     1\n",
       "1   65    0   0            2      8.5     0\n",
       "2   42    1   0            0     15.3     2\n",
       "3   59    0   2            1     10.2     1\n",
       "4   36    1   1            0      9.8     2\n",
       "5   47    0   1            2     14.2     0"
      ]
     },
     "execution_count": 19,
     "metadata": {},
     "output_type": "execute_result"
    }
   ],
   "source": [
    "df3"
   ]
  },
  {
   "cell_type": "code",
   "execution_count": 20,
   "id": "bc63bf30",
   "metadata": {
    "execution": {
     "iopub.execute_input": "2024-02-21T08:17:34.210898Z",
     "iopub.status.busy": "2024-02-21T08:17:34.209691Z",
     "iopub.status.idle": "2024-02-21T08:17:34.785554Z",
     "shell.execute_reply": "2024-02-21T08:17:34.784249Z"
    },
    "papermill": {
     "duration": 0.591108,
     "end_time": "2024-02-21T08:17:34.788539",
     "exception": false,
     "start_time": "2024-02-21T08:17:34.197431",
     "status": "completed"
    },
    "tags": []
   },
   "outputs": [
    {
     "data": {
      "image/png": "[encoded data removed]",
      "text/plain": [
       "<Figure size 1200x800 with 1 Axes>"
      ]
     },
     "metadata": {},
     "output_type": "display_data"
    }
   ],
   "source": [
    "#visualization of the model \n",
    "\n",
    "from sklearn.tree import DecisionTreeClassifier, plot_tree\n",
    "import matplotlib.pyplot as plt\n",
    "plt.figure(figsize = (12, 8))\n",
    "plot_tree(decision_tree,filled=True)\n",
    "plt.show()\n"
   ]
  },
  {
   "cell_type": "code",
   "execution_count": null,
   "id": "5226d550",
   "metadata": {
    "papermill": {
     "duration": 0.013383,
     "end_time": "2024-02-21T08:17:34.815877",
     "exception": false,
     "start_time": "2024-02-21T08:17:34.802494",
     "status": "completed"
    },
    "tags": []
   },
   "outputs": [],
   "source": []
  },
  {
   "cell_type": "code",
   "execution_count": null,
   "id": "14f1330b",
   "metadata": {
    "papermill": {
     "duration": 0.012524,
     "end_time": "2024-02-21T08:17:34.841898",
     "exception": false,
     "start_time": "2024-02-21T08:17:34.829374",
     "status": "completed"
    },
    "tags": []
   },
   "outputs": [],
   "source": []
  }
 ],
 "metadata": {
  "kaggle": {
   "accelerator": "none",
   "dataSources": [
    {
     "datasetId": 1432504,
     "sourceId": 2371056,
     "sourceType": "datasetVersion"
    }
   ],
   "dockerImageVersionId": 30646,
   "isGpuEnabled": false,
   "isInternetEnabled": true,
   "language": "python",
   "sourceType": "notebook"
  },
  "kernelspec": {
   "display_name": "Python 3",
   "language": "python",
   "name": "python3"
  },
  "language_info": {
   "codemirror_mode": {
    "name": "ipython",
    "version": 3
   },
   "file_extension": ".py",
   "mimetype": "text/x-python",
   "name": "python",
   "nbconvert_exporter": "python",
   "pygments_lexer": "ipython3",
   "version": "3.10.13"
  },
  "papermill": {
   "default_parameters": {},
   "duration": 8.776824,
   "end_time": "2024-02-21T08:17:35.578150",
   "environment_variables": {},
   "exception": null,
   "input_path": "__notebook__.ipynb",
   "output_path": "__notebook__.ipynb",
   "parameters": {},
   "start_time": "2024-02-21T08:17:26.801326",
   "version": "2.5.0"
  }
 },
 "nbformat": 4,
 "nbformat_minor": 5
}
