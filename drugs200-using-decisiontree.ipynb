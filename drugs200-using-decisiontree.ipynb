{
 "cells": [
  {
   "cell_type": "code",
   "execution_count": 1,
   "id": "b42715b0",
   "metadata": {
    "_cell_guid": "b1076dfc-b9ad-4769-8c92-a6c4dae69d19",
    "_uuid": "8f2839f25d086af736a60e9eeb907d3b93b6e0e5",
    "execution": {
     "iopub.execute_input": "2024-02-21T08:22:44.386918Z",
     "iopub.status.busy": "2024-02-21T08:22:44.385510Z",
     "iopub.status.idle": "2024-02-21T08:22:45.507627Z",
     "shell.execute_reply": "2024-02-21T08:22:45.506024Z"
    },
    "papermill": {
     "duration": 1.135998,
     "end_time": "2024-02-21T08:22:45.510975",
     "exception": false,
     "start_time": "2024-02-21T08:22:44.374977",
     "status": "completed"
    },
    "tags": []
   },
   "outputs": [
    {
     "name": "stdout",
     "output_type": "stream",
     "text": [
      "/kaggle/input/drugs-a-b-c-x-y-for-decision-trees/drug200.csv\n"
     ]
    }
   ],
   "source": [
    "# This Python 3 environment comes with many helpful analytics libraries installed\n",
    "# It is defined by the kaggle/python Docker image: https://github.com/kaggle/docker-python\n",
    "# For example, here's several helpful packages to load\n",
    "\n",
    "import numpy as np # linear algebra\n",
    "import pandas as pd # data processing, CSV file I/O (e.g. pd.read_csv)\n",
    "\n",
    "# Input data files are available in the read-only \"../input/\" directory\n",
    "# For example, running this (by clicking run or pressing Shift+Enter) will list all files under the input directory\n",
    "\n",
    "import os\n",
    "for dirname, _, filenames in os.walk('/kaggle/input'):\n",
    "    for filename in filenames:\n",
    "        print(os.path.join(dirname, filename))\n",
    "\n",
    "# You can write up to 20GB to the current directory (/kaggle/working/) that gets preserved as output when you create a version using \"Save & Run All\" \n",
    "# You can also write temporary files to /kaggle/temp/, but they won't be saved outside of the current session"
   ]
  },
  {
   "cell_type": "code",
   "execution_count": 2,
   "id": "65ef56de",
   "metadata": {
    "execution": {
     "iopub.execute_input": "2024-02-21T08:22:45.530723Z",
     "iopub.status.busy": "2024-02-21T08:22:45.530066Z",
     "iopub.status.idle": "2024-02-21T08:22:45.536036Z",
     "shell.execute_reply": "2024-02-21T08:22:45.534717Z"
    },
    "papermill": {
     "duration": 0.018917,
     "end_time": "2024-02-21T08:22:45.538807",
     "exception": false,
     "start_time": "2024-02-21T08:22:45.519890",
     "status": "completed"
    },
    "tags": []
   },
   "outputs": [],
   "source": [
    "#loading the necessary data \n",
    "import pandas as pd\n",
    "import numpy as np\n",
    "import matplotlib.pyplot as plt\n"
   ]
  },
  {
   "cell_type": "code",
   "execution_count": 3,
   "id": "909908ed",
   "metadata": {
    "execution": {
     "iopub.execute_input": "2024-02-21T08:22:45.557430Z",
     "iopub.status.busy": "2024-02-21T08:22:45.556946Z",
     "iopub.status.idle": "2024-02-21T08:22:45.579133Z",
     "shell.execute_reply": "2024-02-21T08:22:45.577807Z"
    },
    "papermill": {
     "duration": 0.035035,
     "end_time": "2024-02-21T08:22:45.582056",
     "exception": false,
     "start_time": "2024-02-21T08:22:45.547021",
     "status": "completed"
    },
    "tags": []
   },
   "outputs": [
    {
     "data": {
      "text/plain": [
       "200"
      ]
     },
     "execution_count": 3,
     "metadata": {},
     "output_type": "execute_result"
    }
   ],
   "source": [
    "#loading the data set\n",
    "df = pd.read_csv(\"../input/drugs-a-b-c-x-y-for-decision-trees/drug200.csv\")\n",
    "df.head()\n",
    "len(df)"
   ]
  },
  {
   "cell_type": "markdown",
   "id": "fac1f67a",
   "metadata": {
    "papermill": {
     "duration": 0.008308,
     "end_time": "2024-02-21T08:22:45.599123",
     "exception": false,
     "start_time": "2024-02-21T08:22:45.590815",
     "status": "completed"
    },
    "tags": []
   },
   "source": []
  },
  {
   "cell_type": "code",
   "execution_count": 4,
   "id": "a06bb3f7",
   "metadata": {
    "execution": {
     "iopub.execute_input": "2024-02-21T08:22:45.618382Z",
     "iopub.status.busy": "2024-02-21T08:22:45.617954Z",
     "iopub.status.idle": "2024-02-21T08:22:45.651046Z",
     "shell.execute_reply": "2024-02-21T08:22:45.650047Z"
    },
    "papermill": {
     "duration": 0.04551,
     "end_time": "2024-02-21T08:22:45.653418",
     "exception": false,
     "start_time": "2024-02-21T08:22:45.607908",
     "status": "completed"
    },
    "tags": []
   },
   "outputs": [
    {
     "data": {
      "text/html": [
       "<div>\n",
       "<style scoped>\n",
       "    .dataframe tbody tr th:only-of-type {\n",
       "        vertical-align: middle;\n",
       "    }\n",
       "\n",
       "    .dataframe tbody tr th {\n",
       "        vertical-align: top;\n",
       "    }\n",
       "\n",
       "    .dataframe thead th {\n",
       "        text-align: right;\n",
       "    }\n",
       "</style>\n",
       "<table border=\"1\" class=\"dataframe\">\n",
       "  <thead>\n",
       "    <tr style=\"text-align: right;\">\n",
       "      <th></th>\n",
       "      <th>Age</th>\n",
       "      <th>Sex</th>\n",
       "      <th>BP</th>\n",
       "      <th>Cholesterol</th>\n",
       "      <th>Na_to_K</th>\n",
       "      <th>Drug</th>\n",
       "    </tr>\n",
       "  </thead>\n",
       "  <tbody>\n",
       "    <tr>\n",
       "      <th>0</th>\n",
       "      <td>23</td>\n",
       "      <td>F</td>\n",
       "      <td>HIGH</td>\n",
       "      <td>HIGH</td>\n",
       "      <td>25.355</td>\n",
       "      <td>drugY</td>\n",
       "    </tr>\n",
       "    <tr>\n",
       "      <th>1</th>\n",
       "      <td>47</td>\n",
       "      <td>M</td>\n",
       "      <td>LOW</td>\n",
       "      <td>HIGH</td>\n",
       "      <td>13.093</td>\n",
       "      <td>drugC</td>\n",
       "    </tr>\n",
       "    <tr>\n",
       "      <th>2</th>\n",
       "      <td>47</td>\n",
       "      <td>M</td>\n",
       "      <td>LOW</td>\n",
       "      <td>HIGH</td>\n",
       "      <td>10.114</td>\n",
       "      <td>drugC</td>\n",
       "    </tr>\n",
       "    <tr>\n",
       "      <th>3</th>\n",
       "      <td>28</td>\n",
       "      <td>F</td>\n",
       "      <td>NORMAL</td>\n",
       "      <td>HIGH</td>\n",
       "      <td>7.798</td>\n",
       "      <td>drugX</td>\n",
       "    </tr>\n",
       "    <tr>\n",
       "      <th>4</th>\n",
       "      <td>61</td>\n",
       "      <td>F</td>\n",
       "      <td>LOW</td>\n",
       "      <td>HIGH</td>\n",
       "      <td>18.043</td>\n",
       "      <td>drugY</td>\n",
       "    </tr>\n",
       "    <tr>\n",
       "      <th>...</th>\n",
       "      <td>...</td>\n",
       "      <td>...</td>\n",
       "      <td>...</td>\n",
       "      <td>...</td>\n",
       "      <td>...</td>\n",
       "      <td>...</td>\n",
       "    </tr>\n",
       "    <tr>\n",
       "      <th>195</th>\n",
       "      <td>56</td>\n",
       "      <td>F</td>\n",
       "      <td>LOW</td>\n",
       "      <td>HIGH</td>\n",
       "      <td>11.567</td>\n",
       "      <td>drugC</td>\n",
       "    </tr>\n",
       "    <tr>\n",
       "      <th>196</th>\n",
       "      <td>16</td>\n",
       "      <td>M</td>\n",
       "      <td>LOW</td>\n",
       "      <td>HIGH</td>\n",
       "      <td>12.006</td>\n",
       "      <td>drugC</td>\n",
       "    </tr>\n",
       "    <tr>\n",
       "      <th>197</th>\n",
       "      <td>52</td>\n",
       "      <td>M</td>\n",
       "      <td>NORMAL</td>\n",
       "      <td>HIGH</td>\n",
       "      <td>9.894</td>\n",
       "      <td>drugX</td>\n",
       "    </tr>\n",
       "    <tr>\n",
       "      <th>198</th>\n",
       "      <td>23</td>\n",
       "      <td>M</td>\n",
       "      <td>NORMAL</td>\n",
       "      <td>NORMAL</td>\n",
       "      <td>14.020</td>\n",
       "      <td>drugX</td>\n",
       "    </tr>\n",
       "    <tr>\n",
       "      <th>199</th>\n",
       "      <td>40</td>\n",
       "      <td>F</td>\n",
       "      <td>LOW</td>\n",
       "      <td>NORMAL</td>\n",
       "      <td>11.349</td>\n",
       "      <td>drugX</td>\n",
       "    </tr>\n",
       "  </tbody>\n",
       "</table>\n",
       "<p>200 rows × 6 columns</p>\n",
       "</div>"
      ],
      "text/plain": [
       "     Age Sex      BP Cholesterol  Na_to_K   Drug\n",
       "0     23   F    HIGH        HIGH   25.355  drugY\n",
       "1     47   M     LOW        HIGH   13.093  drugC\n",
       "2     47   M     LOW        HIGH   10.114  drugC\n",
       "3     28   F  NORMAL        HIGH    7.798  drugX\n",
       "4     61   F     LOW        HIGH   18.043  drugY\n",
       "..   ...  ..     ...         ...      ...    ...\n",
       "195   56   F     LOW        HIGH   11.567  drugC\n",
       "196   16   M     LOW        HIGH   12.006  drugC\n",
       "197   52   M  NORMAL        HIGH    9.894  drugX\n",
       "198   23   M  NORMAL      NORMAL   14.020  drugX\n",
       "199   40   F     LOW      NORMAL   11.349  drugX\n",
       "\n",
       "[200 rows x 6 columns]"
      ]
     },
     "execution_count": 4,
     "metadata": {},
     "output_type": "execute_result"
    }
   ],
   "source": [
    "#removing not a number values\n",
    "df.dropna()\n",
    "\n"
   ]
  },
  {
   "cell_type": "code",
   "execution_count": 5,
   "id": "4b195316",
   "metadata": {
    "execution": {
     "iopub.execute_input": "2024-02-21T08:22:45.674175Z",
     "iopub.status.busy": "2024-02-21T08:22:45.672950Z",
     "iopub.status.idle": "2024-02-21T08:22:46.170489Z",
     "shell.execute_reply": "2024-02-21T08:22:46.169128Z"
    },
    "papermill": {
     "duration": 0.511339,
     "end_time": "2024-02-21T08:22:46.173727",
     "exception": false,
     "start_time": "2024-02-21T08:22:45.662388",
     "status": "completed"
    },
    "tags": []
   },
   "outputs": [
    {
     "data": {
      "text/plain": [
       "<Figure size 1000x500 with 0 Axes>"
      ]
     },
     "metadata": {},
     "output_type": "display_data"
    },
    {
     "data": {
      "image/png": "[encoded data removed]",
      "text/plain": [
       "<Figure size 640x480 with 2 Axes>"
      ]
     },
     "metadata": {},
     "output_type": "display_data"
    }
   ],
   "source": [
    "#Data Visualization\n",
    "#bar plot for the data\n",
    "fig = plt.figure(figsize = (10, 5))\n",
    " \n",
    "# creating the hist plot\n",
    "df.hist()\n",
    "plt.show()"
   ]
  },
  {
   "cell_type": "code",
   "execution_count": 6,
   "id": "4716dfaa",
   "metadata": {
    "execution": {
     "iopub.execute_input": "2024-02-21T08:22:46.195540Z",
     "iopub.status.busy": "2024-02-21T08:22:46.195013Z",
     "iopub.status.idle": "2024-02-21T08:22:46.203719Z",
     "shell.execute_reply": "2024-02-21T08:22:46.202220Z"
    },
    "papermill": {
     "duration": 0.022839,
     "end_time": "2024-02-21T08:22:46.206599",
     "exception": false,
     "start_time": "2024-02-21T08:22:46.183760",
     "status": "completed"
    },
    "tags": []
   },
   "outputs": [
    {
     "data": {
      "text/plain": [
       "200"
      ]
     },
     "execution_count": 6,
     "metadata": {},
     "output_type": "execute_result"
    }
   ],
   "source": [
    "len(df)"
   ]
  },
  {
   "cell_type": "code",
   "execution_count": 7,
   "id": "fe604be6",
   "metadata": {
    "execution": {
     "iopub.execute_input": "2024-02-21T08:22:46.228892Z",
     "iopub.status.busy": "2024-02-21T08:22:46.228387Z",
     "iopub.status.idle": "2024-02-21T08:22:47.760294Z",
     "shell.execute_reply": "2024-02-21T08:22:47.758890Z"
    },
    "papermill": {
     "duration": 1.54682,
     "end_time": "2024-02-21T08:22:47.763343",
     "exception": false,
     "start_time": "2024-02-21T08:22:46.216523",
     "status": "completed"
    },
    "tags": []
   },
   "outputs": [],
   "source": [
    "#label encoding the dataset to convert str to floats\n",
    "# Import label encoder \n",
    "from sklearn import preprocessing \n",
    "# label_encoder object knows  \n",
    "# how to understand word labels. \n",
    "label_encoder = preprocessing.LabelEncoder() \n",
    "# Encode labels in column Sex BP Cholesterol Drug . \n",
    "df['Sex']= label_encoder.fit_transform(df['Sex']) \n",
    "df['BP']= label_encoder.fit_transform(df['BP']) \n",
    "df['Cholesterol']= label_encoder.fit_transform(df['Cholesterol']) \n",
    "df['Drug']= label_encoder.fit_transform(df['Drug']) \n",
    "  \n",
    "df.tail()\n",
    "# To delete the last 4 rows\n",
    "N = 4  # Example: delete the last 4 rows\n",
    "df = df.iloc[:-4]\n",
    "df1= df.tail()\n"
   ]
  },
  {
   "cell_type": "code",
   "execution_count": 8,
   "id": "067f590a",
   "metadata": {
    "execution": {
     "iopub.execute_input": "2024-02-21T08:22:47.784367Z",
     "iopub.status.busy": "2024-02-21T08:22:47.783957Z",
     "iopub.status.idle": "2024-02-21T08:22:47.791069Z",
     "shell.execute_reply": "2024-02-21T08:22:47.790048Z"
    },
    "papermill": {
     "duration": 0.020435,
     "end_time": "2024-02-21T08:22:47.793566",
     "exception": false,
     "start_time": "2024-02-21T08:22:47.773131",
     "status": "completed"
    },
    "tags": []
   },
   "outputs": [
    {
     "data": {
      "text/plain": [
       "196"
      ]
     },
     "execution_count": 8,
     "metadata": {},
     "output_type": "execute_result"
    }
   ],
   "source": [
    "len(df)"
   ]
  },
  {
   "cell_type": "code",
   "execution_count": 9,
   "id": "dad78c91",
   "metadata": {
    "execution": {
     "iopub.execute_input": "2024-02-21T08:22:47.815152Z",
     "iopub.status.busy": "2024-02-21T08:22:47.814391Z",
     "iopub.status.idle": "2024-02-21T08:22:48.262559Z",
     "shell.execute_reply": "2024-02-21T08:22:48.260969Z"
    },
    "papermill": {
     "duration": 0.462647,
     "end_time": "2024-02-21T08:22:48.265802",
     "exception": false,
     "start_time": "2024-02-21T08:22:47.803155",
     "status": "completed"
    },
    "tags": []
   },
   "outputs": [],
   "source": [
    "#Importing Decision Tree libraries\n",
    "from sklearn.model_selection import train_test_split\n",
    "from sklearn.tree import DecisionTreeClassifier\n",
    "from sklearn.metrics import accuracy_score\n",
    "from sklearn import tree\n",
    "import joblib\n"
   ]
  },
  {
   "cell_type": "code",
   "execution_count": 10,
   "id": "5db5f98d",
   "metadata": {
    "execution": {
     "iopub.execute_input": "2024-02-21T08:22:48.287657Z",
     "iopub.status.busy": "2024-02-21T08:22:48.287233Z",
     "iopub.status.idle": "2024-02-21T08:22:48.297447Z",
     "shell.execute_reply": "2024-02-21T08:22:48.296019Z"
    },
    "papermill": {
     "duration": 0.025022,
     "end_time": "2024-02-21T08:22:48.300233",
     "exception": false,
     "start_time": "2024-02-21T08:22:48.275211",
     "status": "completed"
    },
    "tags": []
   },
   "outputs": [],
   "source": [
    "#TRAIN TEST SPLIT THE DATA\n",
    "X = df.drop(['Drug'],axis=1)\n",
    "X.head()\n",
    "\n",
    "from sklearn.preprocessing import LabelEncoder\n",
    "# Assuming 'target_column' is the name of your target column\n",
    "label_encoder = LabelEncoder()\n",
    "y= label_encoder.fit_transform(df['Drug'])\n",
    "# using the train test split method to split the data\n",
    "X_train, X_test, y_train, y_test = train_test_split(X,y,test_size=0.2,shuffle=True) "
   ]
  },
  {
   "cell_type": "code",
   "execution_count": 11,
   "id": "a0b7061a",
   "metadata": {
    "execution": {
     "iopub.execute_input": "2024-02-21T08:22:48.322249Z",
     "iopub.status.busy": "2024-02-21T08:22:48.321847Z",
     "iopub.status.idle": "2024-02-21T08:22:48.339412Z",
     "shell.execute_reply": "2024-02-21T08:22:48.338338Z"
    },
    "papermill": {
     "duration": 0.031045,
     "end_time": "2024-02-21T08:22:48.341920",
     "exception": false,
     "start_time": "2024-02-21T08:22:48.310875",
     "status": "completed"
    },
    "tags": []
   },
   "outputs": [
    {
     "data": {
      "text/html": [
       "<style>#sk-container-id-1 {color: black;background-color: white;}#sk-container-id-1 pre{padding: 0;}#sk-container-id-1 div.sk-toggleable {background-color: white;}#sk-container-id-1 label.sk-toggleable__label {cursor: pointer;display: block;width: 100%;margin-bottom: 0;padding: 0.3em;box-sizing: border-box;text-align: center;}#sk-container-id-1 label.sk-toggleable__label-arrow:before {content: \"▸\";float: left;margin-right: 0.25em;color: #696969;}#sk-container-id-1 label.sk-toggleable__label-arrow:hover:before {color: black;}#sk-container-id-1 div.sk-estimator:hover label.sk-toggleable__label-arrow:before {color: black;}#sk-container-id-1 div.sk-toggleable__content {max-height: 0;max-width: 0;overflow: hidden;text-align: left;background-color: #f0f8ff;}#sk-container-id-1 div.sk-toggleable__content pre {margin: 0.2em;color: black;border-radius: 0.25em;background-color: #f0f8ff;}#sk-container-id-1 input.sk-toggleable__control:checked~div.sk-toggleable__content {max-height: 200px;max-width: 100%;overflow: auto;}#sk-container-id-1 input.sk-toggleable__control:checked~label.sk-toggleable__label-arrow:before {content: \"▾\";}#sk-container-id-1 div.sk-estimator input.sk-toggleable__control:checked~label.sk-toggleable__label {background-color: #d4ebff;}#sk-container-id-1 div.sk-label input.sk-toggleable__control:checked~label.sk-toggleable__label {background-color: #d4ebff;}#sk-container-id-1 input.sk-hidden--visually {border: 0;clip: rect(1px 1px 1px 1px);clip: rect(1px, 1px, 1px, 1px);height: 1px;margin: -1px;overflow: hidden;padding: 0;position: absolute;width: 1px;}#sk-container-id-1 div.sk-estimator {font-family: monospace;background-color: #f0f8ff;border: 1px dotted black;border-radius: 0.25em;box-sizing: border-box;margin-bottom: 0.5em;}#sk-container-id-1 div.sk-estimator:hover {background-color: #d4ebff;}#sk-container-id-1 div.sk-parallel-item::after {content: \"\";width: 100%;border-bottom: 1px solid gray;flex-grow: 1;}#sk-container-id-1 div.sk-label:hover label.sk-toggleable__label {background-color: #d4ebff;}#sk-container-id-1 div.sk-serial::before {content: \"\";position: absolute;border-left: 1px solid gray;box-sizing: border-box;top: 0;bottom: 0;left: 50%;z-index: 0;}#sk-container-id-1 div.sk-serial {display: flex;flex-direction: column;align-items: center;background-color: white;padding-right: 0.2em;padding-left: 0.2em;position: relative;}#sk-container-id-1 div.sk-item {position: relative;z-index: 1;}#sk-container-id-1 div.sk-parallel {display: flex;align-items: stretch;justify-content: center;background-color: white;position: relative;}#sk-container-id-1 div.sk-item::before, #sk-container-id-1 div.sk-parallel-item::before {content: \"\";position: absolute;border-left: 1px solid gray;box-sizing: border-box;top: 0;bottom: 0;left: 50%;z-index: -1;}#sk-container-id-1 div.sk-parallel-item {display: flex;flex-direction: column;z-index: 1;position: relative;background-color: white;}#sk-container-id-1 div.sk-parallel-item:first-child::after {align-self: flex-end;width: 50%;}#sk-container-id-1 div.sk-parallel-item:last-child::after {align-self: flex-start;width: 50%;}#sk-container-id-1 div.sk-parallel-item:only-child::after {width: 0;}#sk-container-id-1 div.sk-dashed-wrapped {border: 1px dashed gray;margin: 0 0.4em 0.5em 0.4em;box-sizing: border-box;padding-bottom: 0.4em;background-color: white;}#sk-container-id-1 div.sk-label label {font-family: monospace;font-weight: bold;display: inline-block;line-height: 1.2em;}#sk-container-id-1 div.sk-label-container {text-align: center;}#sk-container-id-1 div.sk-container {/* jupyter's `normalize.less` sets `[hidden] { display: none; }` but bootstrap.min.css set `[hidden] { display: none !important; }` so we also need the `!important` here to be able to override the default hidden behavior on the sphinx rendered scikit-learn.org. See: https://github.com/scikit-learn/scikit-learn/issues/21755 */display: inline-block !important;position: relative;}#sk-container-id-1 div.sk-text-repr-fallback {display: none;}</style><div id=\"sk-container-id-1\" class=\"sk-top-container\"><div class=\"sk-text-repr-fallback\"><pre>DecisionTreeClassifier()</pre><b>In a Jupyter environment, please rerun this cell to show the HTML representation or trust the notebook. <br />On GitHub, the HTML representation is unable to render, please try loading this page with nbviewer.org.</b></div><div class=\"sk-container\" hidden><div class=\"sk-item\"><div class=\"sk-estimator sk-toggleable\"><input class=\"sk-toggleable__control sk-hidden--visually\" id=\"sk-estimator-id-1\" type=\"checkbox\" checked><label for=\"sk-estimator-id-1\" class=\"sk-toggleable__label sk-toggleable__label-arrow\">DecisionTreeClassifier</label><div class=\"sk-toggleable__content\"><pre>DecisionTreeClassifier()</pre></div></div></div></div></div>"
      ],
      "text/plain": [
       "DecisionTreeClassifier()"
      ]
     },
     "execution_count": 11,
     "metadata": {},
     "output_type": "execute_result"
    }
   ],
   "source": [
    "# Create a Decision Tree model\n",
    "decision_tree = DecisionTreeClassifier()\n",
    "\n",
    "# Train the model on the training set\n",
    "decision_tree.fit(X_train, y_train)"
   ]
  },
  {
   "cell_type": "code",
   "execution_count": 12,
   "id": "ce0e6926",
   "metadata": {
    "execution": {
     "iopub.execute_input": "2024-02-21T08:22:48.364609Z",
     "iopub.status.busy": "2024-02-21T08:22:48.363748Z",
     "iopub.status.idle": "2024-02-21T08:22:48.373613Z",
     "shell.execute_reply": "2024-02-21T08:22:48.372374Z"
    },
    "papermill": {
     "duration": 0.025411,
     "end_time": "2024-02-21T08:22:48.377076",
     "exception": false,
     "start_time": "2024-02-21T08:22:48.351665",
     "status": "completed"
    },
    "tags": []
   },
   "outputs": [
    {
     "name": "stdout",
     "output_type": "stream",
     "text": [
      "Decision Tree model accuracy on the test set: 97.50%\n",
      "97.5\n"
     ]
    }
   ],
   "source": [
    "# Make predictions on the test set\n",
    "predictions = decision_tree.predict(X_test)\n",
    "\n",
    "# Calculate the accuracy of the model\n",
    "accuracy = accuracy_score(y_test, predictions)\n",
    "\n",
    "print(f\"Decision Tree model accuracy on the test set: {accuracy:.2%}\")\n",
    "print(accuracy*100)\n"
   ]
  },
  {
   "cell_type": "code",
   "execution_count": 13,
   "id": "1449fe96",
   "metadata": {
    "execution": {
     "iopub.execute_input": "2024-02-21T08:22:48.399753Z",
     "iopub.status.busy": "2024-02-21T08:22:48.399259Z",
     "iopub.status.idle": "2024-02-21T08:22:48.414249Z",
     "shell.execute_reply": "2024-02-21T08:22:48.412754Z"
    },
    "papermill": {
     "duration": 0.029524,
     "end_time": "2024-02-21T08:22:48.417006",
     "exception": false,
     "start_time": "2024-02-21T08:22:48.387482",
     "status": "completed"
    },
    "tags": []
   },
   "outputs": [
    {
     "data": {
      "text/html": [
       "<div>\n",
       "<style scoped>\n",
       "    .dataframe tbody tr th:only-of-type {\n",
       "        vertical-align: middle;\n",
       "    }\n",
       "\n",
       "    .dataframe tbody tr th {\n",
       "        vertical-align: top;\n",
       "    }\n",
       "\n",
       "    .dataframe thead th {\n",
       "        text-align: right;\n",
       "    }\n",
       "</style>\n",
       "<table border=\"1\" class=\"dataframe\">\n",
       "  <thead>\n",
       "    <tr style=\"text-align: right;\">\n",
       "      <th></th>\n",
       "      <th>Age</th>\n",
       "      <th>Sex</th>\n",
       "      <th>BP</th>\n",
       "      <th>Cholesterol</th>\n",
       "      <th>Na_to_K</th>\n",
       "    </tr>\n",
       "  </thead>\n",
       "  <tbody>\n",
       "    <tr>\n",
       "      <th>191</th>\n",
       "      <td>23</td>\n",
       "      <td>1</td>\n",
       "      <td>0</td>\n",
       "      <td>0</td>\n",
       "      <td>8.011</td>\n",
       "    </tr>\n",
       "    <tr>\n",
       "      <th>192</th>\n",
       "      <td>72</td>\n",
       "      <td>1</td>\n",
       "      <td>1</td>\n",
       "      <td>0</td>\n",
       "      <td>16.310</td>\n",
       "    </tr>\n",
       "    <tr>\n",
       "      <th>193</th>\n",
       "      <td>72</td>\n",
       "      <td>1</td>\n",
       "      <td>1</td>\n",
       "      <td>0</td>\n",
       "      <td>6.769</td>\n",
       "    </tr>\n",
       "    <tr>\n",
       "      <th>194</th>\n",
       "      <td>46</td>\n",
       "      <td>0</td>\n",
       "      <td>0</td>\n",
       "      <td>0</td>\n",
       "      <td>34.686</td>\n",
       "    </tr>\n",
       "    <tr>\n",
       "      <th>195</th>\n",
       "      <td>56</td>\n",
       "      <td>0</td>\n",
       "      <td>1</td>\n",
       "      <td>0</td>\n",
       "      <td>11.567</td>\n",
       "    </tr>\n",
       "  </tbody>\n",
       "</table>\n",
       "</div>"
      ],
      "text/plain": [
       "     Age  Sex  BP  Cholesterol  Na_to_K\n",
       "191   23    1   0            0    8.011\n",
       "192   72    1   1            0   16.310\n",
       "193   72    1   1            0    6.769\n",
       "194   46    0   0            0   34.686\n",
       "195   56    0   1            0   11.567"
      ]
     },
     "execution_count": 13,
     "metadata": {},
     "output_type": "execute_result"
    }
   ],
   "source": [
    "test2 = df1.drop('Drug',axis=1)\n",
    "test2"
   ]
  },
  {
   "cell_type": "code",
   "execution_count": 14,
   "id": "86994652",
   "metadata": {
    "execution": {
     "iopub.execute_input": "2024-02-21T08:22:48.440118Z",
     "iopub.status.busy": "2024-02-21T08:22:48.439570Z",
     "iopub.status.idle": "2024-02-21T08:22:48.449547Z",
     "shell.execute_reply": "2024-02-21T08:22:48.447781Z"
    },
    "papermill": {
     "duration": 0.024742,
     "end_time": "2024-02-21T08:22:48.452174",
     "exception": false,
     "start_time": "2024-02-21T08:22:48.427432",
     "status": "completed"
    },
    "tags": []
   },
   "outputs": [
    {
     "name": "stdout",
     "output_type": "stream",
     "text": [
      "[0 4 2 4 2]\n"
     ]
    }
   ],
   "source": [
    "# Make predictions on the test set\n",
    "prediction2 = decision_tree.predict(test2)\n",
    "print(prediction2)"
   ]
  },
  {
   "cell_type": "code",
   "execution_count": 15,
   "id": "f71c2dff",
   "metadata": {
    "execution": {
     "iopub.execute_input": "2024-02-21T08:22:48.474592Z",
     "iopub.status.busy": "2024-02-21T08:22:48.474170Z",
     "iopub.status.idle": "2024-02-21T08:22:48.488635Z",
     "shell.execute_reply": "2024-02-21T08:22:48.487464Z"
    },
    "papermill": {
     "duration": 0.028677,
     "end_time": "2024-02-21T08:22:48.491071",
     "exception": false,
     "start_time": "2024-02-21T08:22:48.462394",
     "status": "completed"
    },
    "tags": []
   },
   "outputs": [
    {
     "data": {
      "text/html": [
       "<div>\n",
       "<style scoped>\n",
       "    .dataframe tbody tr th:only-of-type {\n",
       "        vertical-align: middle;\n",
       "    }\n",
       "\n",
       "    .dataframe tbody tr th {\n",
       "        vertical-align: top;\n",
       "    }\n",
       "\n",
       "    .dataframe thead th {\n",
       "        text-align: right;\n",
       "    }\n",
       "</style>\n",
       "<table border=\"1\" class=\"dataframe\">\n",
       "  <thead>\n",
       "    <tr style=\"text-align: right;\">\n",
       "      <th></th>\n",
       "      <th>Age</th>\n",
       "      <th>Sex</th>\n",
       "      <th>BP</th>\n",
       "      <th>Cholesterol</th>\n",
       "      <th>Na_to_K</th>\n",
       "      <th>Drug</th>\n",
       "    </tr>\n",
       "  </thead>\n",
       "  <tbody>\n",
       "    <tr>\n",
       "      <th>191</th>\n",
       "      <td>23</td>\n",
       "      <td>1</td>\n",
       "      <td>0</td>\n",
       "      <td>0</td>\n",
       "      <td>8.011</td>\n",
       "      <td>0</td>\n",
       "    </tr>\n",
       "    <tr>\n",
       "      <th>192</th>\n",
       "      <td>72</td>\n",
       "      <td>1</td>\n",
       "      <td>1</td>\n",
       "      <td>0</td>\n",
       "      <td>16.310</td>\n",
       "      <td>4</td>\n",
       "    </tr>\n",
       "    <tr>\n",
       "      <th>193</th>\n",
       "      <td>72</td>\n",
       "      <td>1</td>\n",
       "      <td>1</td>\n",
       "      <td>0</td>\n",
       "      <td>6.769</td>\n",
       "      <td>2</td>\n",
       "    </tr>\n",
       "    <tr>\n",
       "      <th>194</th>\n",
       "      <td>46</td>\n",
       "      <td>0</td>\n",
       "      <td>0</td>\n",
       "      <td>0</td>\n",
       "      <td>34.686</td>\n",
       "      <td>4</td>\n",
       "    </tr>\n",
       "    <tr>\n",
       "      <th>195</th>\n",
       "      <td>56</td>\n",
       "      <td>0</td>\n",
       "      <td>1</td>\n",
       "      <td>0</td>\n",
       "      <td>11.567</td>\n",
       "      <td>2</td>\n",
       "    </tr>\n",
       "  </tbody>\n",
       "</table>\n",
       "</div>"
      ],
      "text/plain": [
       "     Age  Sex  BP  Cholesterol  Na_to_K  Drug\n",
       "191   23    1   0            0    8.011     0\n",
       "192   72    1   1            0   16.310     4\n",
       "193   72    1   1            0    6.769     2\n",
       "194   46    0   0            0   34.686     4\n",
       "195   56    0   1            0   11.567     2"
      ]
     },
     "execution_count": 15,
     "metadata": {},
     "output_type": "execute_result"
    }
   ],
   "source": [
    "df1"
   ]
  },
  {
   "cell_type": "code",
   "execution_count": 16,
   "id": "d75ebd90",
   "metadata": {
    "execution": {
     "iopub.execute_input": "2024-02-21T08:22:48.513334Z",
     "iopub.status.busy": "2024-02-21T08:22:48.512947Z",
     "iopub.status.idle": "2024-02-21T08:22:48.526531Z",
     "shell.execute_reply": "2024-02-21T08:22:48.524829Z"
    },
    "papermill": {
     "duration": 0.028435,
     "end_time": "2024-02-21T08:22:48.529606",
     "exception": false,
     "start_time": "2024-02-21T08:22:48.501171",
     "status": "completed"
    },
    "tags": []
   },
   "outputs": [
    {
     "name": "stdout",
     "output_type": "stream",
     "text": [
      "   Age Sex      BP Cholesterol  Na_to_K   Drug\n",
      "0   28   M  NORMAL      NORMAL     12.0  drugA\n",
      "1   65   F    HIGH      NORMAL      8.5  DrugY\n",
      "2   42   M    HIGH        HIGH     15.3  drugB\n",
      "3   59   F  NORMAL         LOW     10.2  drugA\n",
      "4   36   M     LOW        HIGH      9.8  drugB\n",
      "5   47   F     LOW      NORMAL     14.2  DrugY\n"
     ]
    }
   ],
   "source": [
    "# Define data as a dictionary with different values\n",
    "data = {\n",
    "    'Age': [28, 65, 42, 59, 36, 47],  # Example ages\n",
    "    'Sex': ['M', 'F', 'M', 'F', 'M', 'F'],  # F for female, M for male\n",
    "    'BP': ['NORMAL', 'HIGH', 'HIGH', 'NORMAL', 'LOW', 'LOW'],  # Blood pressure levels\n",
    "    'Cholesterol': ['NORMAL', 'NORMAL', 'HIGH', 'LOW', 'HIGH', 'NORMAL'],  # Cholesterol levels\n",
    "    'Na_to_K': [12.0, 8.5, 15.3, 10.2, 9.8, 14.2],  # Sodium to Potassium ratio\n",
    "    'Drug': ['drugA', 'DrugY', 'drugB', 'drugA', 'drugB', 'DrugY']  # Prescribed drug\n",
    "}\n",
    "\n",
    "# Create DataFrame\n",
    "df3 = pd.DataFrame(data)\n",
    "\n",
    "# Display the DataFrame\n",
    "print(df3)"
   ]
  },
  {
   "cell_type": "code",
   "execution_count": 17,
   "id": "43570ccc",
   "metadata": {
    "execution": {
     "iopub.execute_input": "2024-02-21T08:22:48.554502Z",
     "iopub.status.busy": "2024-02-21T08:22:48.554101Z",
     "iopub.status.idle": "2024-02-21T08:22:48.565249Z",
     "shell.execute_reply": "2024-02-21T08:22:48.563532Z"
    },
    "papermill": {
     "duration": 0.026487,
     "end_time": "2024-02-21T08:22:48.567920",
     "exception": false,
     "start_time": "2024-02-21T08:22:48.541433",
     "status": "completed"
    },
    "tags": []
   },
   "outputs": [],
   "source": [
    "#label encoding the dataset to convert str to floats\n",
    "# Import label encoder \n",
    "from sklearn import preprocessing \n",
    "# label_encoder object knows  \n",
    "# how to understand word labels. \n",
    "label_encoder = preprocessing.LabelEncoder() \n",
    "# Encode labels in column Sex BP Cholesterol Drug . \n",
    "df3['Sex']= label_encoder.fit_transform(df3['Sex']) \n",
    "df3['BP']= label_encoder.fit_transform(df3['BP']) \n",
    "df3['Cholesterol']= label_encoder.fit_transform(df3['Cholesterol']) \n",
    "df3['Drug']= label_encoder.fit_transform(df3['Drug']) \n",
    "test3 =df3.drop('Drug',axis=1)\n"
   ]
  },
  {
   "cell_type": "code",
   "execution_count": 18,
   "id": "b7729796",
   "metadata": {
    "execution": {
     "iopub.execute_input": "2024-02-21T08:22:48.591567Z",
     "iopub.status.busy": "2024-02-21T08:22:48.591175Z",
     "iopub.status.idle": "2024-02-21T08:22:48.599517Z",
     "shell.execute_reply": "2024-02-21T08:22:48.597992Z"
    },
    "papermill": {
     "duration": 0.023981,
     "end_time": "2024-02-21T08:22:48.602506",
     "exception": false,
     "start_time": "2024-02-21T08:22:48.578525",
     "status": "completed"
    },
    "tags": []
   },
   "outputs": [
    {
     "name": "stdout",
     "output_type": "stream",
     "text": [
      "[3 1 4 3 2 3]\n"
     ]
    }
   ],
   "source": [
    "# Make predictions on the test set\n",
    "prediction3 = decision_tree.predict(test3)\n",
    "print(prediction3)"
   ]
  },
  {
   "cell_type": "code",
   "execution_count": 19,
   "id": "7e1db04d",
   "metadata": {
    "execution": {
     "iopub.execute_input": "2024-02-21T08:22:48.626571Z",
     "iopub.status.busy": "2024-02-21T08:22:48.626184Z",
     "iopub.status.idle": "2024-02-21T08:22:48.641183Z",
     "shell.execute_reply": "2024-02-21T08:22:48.639727Z"
    },
    "papermill": {
     "duration": 0.03061,
     "end_time": "2024-02-21T08:22:48.643857",
     "exception": false,
     "start_time": "2024-02-21T08:22:48.613247",
     "status": "completed"
    },
    "tags": []
   },
   "outputs": [
    {
     "data": {
      "text/html": [
       "<div>\n",
       "<style scoped>\n",
       "    .dataframe tbody tr th:only-of-type {\n",
       "        vertical-align: middle;\n",
       "    }\n",
       "\n",
       "    .dataframe tbody tr th {\n",
       "        vertical-align: top;\n",
       "    }\n",
       "\n",
       "    .dataframe thead th {\n",
       "        text-align: right;\n",
       "    }\n",
       "</style>\n",
       "<table border=\"1\" class=\"dataframe\">\n",
       "  <thead>\n",
       "    <tr style=\"text-align: right;\">\n",
       "      <th></th>\n",
       "      <th>Age</th>\n",
       "      <th>Sex</th>\n",
       "      <th>BP</th>\n",
       "      <th>Cholesterol</th>\n",
       "      <th>Na_to_K</th>\n",
       "      <th>Drug</th>\n",
       "    </tr>\n",
       "  </thead>\n",
       "  <tbody>\n",
       "    <tr>\n",
       "      <th>0</th>\n",
       "      <td>28</td>\n",
       "      <td>1</td>\n",
       "      <td>2</td>\n",
       "      <td>2</td>\n",
       "      <td>12.0</td>\n",
       "      <td>1</td>\n",
       "    </tr>\n",
       "    <tr>\n",
       "      <th>1</th>\n",
       "      <td>65</td>\n",
       "      <td>0</td>\n",
       "      <td>0</td>\n",
       "      <td>2</td>\n",
       "      <td>8.5</td>\n",
       "      <td>0</td>\n",
       "    </tr>\n",
       "    <tr>\n",
       "      <th>2</th>\n",
       "      <td>42</td>\n",
       "      <td>1</td>\n",
       "      <td>0</td>\n",
       "      <td>0</td>\n",
       "      <td>15.3</td>\n",
       "      <td>2</td>\n",
       "    </tr>\n",
       "    <tr>\n",
       "      <th>3</th>\n",
       "      <td>59</td>\n",
       "      <td>0</td>\n",
       "      <td>2</td>\n",
       "      <td>1</td>\n",
       "      <td>10.2</td>\n",
       "      <td>1</td>\n",
       "    </tr>\n",
       "    <tr>\n",
       "      <th>4</th>\n",
       "      <td>36</td>\n",
       "      <td>1</td>\n",
       "      <td>1</td>\n",
       "      <td>0</td>\n",
       "      <td>9.8</td>\n",
       "      <td>2</td>\n",
       "    </tr>\n",
       "    <tr>\n",
       "      <th>5</th>\n",
       "      <td>47</td>\n",
       "      <td>0</td>\n",
       "      <td>1</td>\n",
       "      <td>2</td>\n",
       "      <td>14.2</td>\n",
       "      <td>0</td>\n",
       "    </tr>\n",
       "  </tbody>\n",
       "</table>\n",
       "</div>"
      ],
      "text/plain": [
       "   Age  Sex  BP  Cholesterol  Na_to_K  Drug\n",
       "0   28    1   2            2     12.0     1\n",
       "1   65    0   0            2      8.5     0\n",
       "2   42    1   0            0     15.3     2\n",
       "3   59    0   2            1     10.2     1\n",
       "4   36    1   1            0      9.8     2\n",
       "5   47    0   1            2     14.2     0"
      ]
     },
     "execution_count": 19,
     "metadata": {},
     "output_type": "execute_result"
    }
   ],
   "source": [
    "df3"
   ]
  },
  {
   "cell_type": "code",
   "execution_count": 20,
   "id": "05521688",
   "metadata": {
    "execution": {
     "iopub.execute_input": "2024-02-21T08:22:48.668214Z",
     "iopub.status.busy": "2024-02-21T08:22:48.667675Z",
     "iopub.status.idle": "2024-02-21T08:22:49.330026Z",
     "shell.execute_reply": "2024-02-21T08:22:49.326014Z"
    },
    "papermill": {
     "duration": 0.684144,
     "end_time": "2024-02-21T08:22:49.338943",
     "exception": false,
     "start_time": "2024-02-21T08:22:48.654799",
     "status": "completed"
    },
    "tags": []
   },
   "outputs": [
    {
     "data": {
      "image/png": "[encoded data removed]",
      "text/plain": [
       "<Figure size 1200x800 with 1 Axes>"
      ]
     },
     "metadata": {},
     "output_type": "display_data"
    }
   ],
   "source": [
    "#visualization of the model \n",
    "\n",
    "from sklearn.tree import DecisionTreeClassifier, plot_tree\n",
    "import matplotlib.pyplot as plt\n",
    "plt.figure(figsize = (12, 8))\n",
    "plot_tree(decision_tree,filled=True)\n",
    "plt.show()\n"
   ]
  },
  {
   "cell_type": "code",
   "execution_count": null,
   "id": "3a731e16",
   "metadata": {
    "papermill": {
     "duration": 0.016041,
     "end_time": "2024-02-21T08:22:49.370978",
     "exception": false,
     "start_time": "2024-02-21T08:22:49.354937",
     "status": "completed"
    },
    "tags": []
   },
   "outputs": [],
   "source": []
  },
  {
   "cell_type": "code",
   "execution_count": null,
   "id": "74853c38",
   "metadata": {
    "papermill": {
     "duration": 0.019911,
     "end_time": "2024-02-21T08:22:49.410664",
     "exception": false,
     "start_time": "2024-02-21T08:22:49.390753",
     "status": "completed"
    },
    "tags": []
   },
   "outputs": [],
   "source": []
  }
 ],
 "metadata": {
  "kaggle": {
   "accelerator": "none",
   "dataSources": [
    {
     "datasetId": 1432504,
     "sourceId": 2371056,
     "sourceType": "datasetVersion"
    }
   ],
   "dockerImageVersionId": 30646,
   "isGpuEnabled": false,
   "isInternetEnabled": true,
   "language": "python",
   "sourceType": "notebook"
  },
  "kernelspec": {
   "display_name": "Python 3",
   "language": "python",
   "name": "python3"
  },
  "language_info": {
   "codemirror_mode": {
    "name": "ipython",
    "version": 3
   },
   "file_extension": ".py",
   "mimetype": "text/x-python",
   "name": "python",
   "nbconvert_exporter": "python",
   "pygments_lexer": "ipython3",
   "version": "3.10.13"
  },
  "papermill": {
   "default_parameters": {},
   "duration": 9.131266,
   "end_time": "2024-02-21T08:22:50.153575",
   "environment_variables": {},
   "exception": null,
   "input_path": "__notebook__.ipynb",
   "output_path": "__notebook__.ipynb",
   "parameters": {},
   "start_time": "2024-02-21T08:22:41.022309",
   "version": "2.5.0"
  }
 },
 "nbformat": 4,
 "nbformat_minor": 5
}
